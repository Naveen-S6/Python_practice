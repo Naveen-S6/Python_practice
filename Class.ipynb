{
 "cells": [
  {
   "cell_type": "code",
   "execution_count": 21,
   "id": "3936428f",
   "metadata": {},
   "outputs": [],
   "source": [
    "class Car:\n",
    "    def __init__(self, m,y,ma):\n",
    "        self.milage = m\n",
    "        self.year = y\n",
    "        self.make = ma\n",
    "        \n",
    "    def Age(self,current_year):\n",
    "        return \"The current age of the car is:\", current_year - self.year\n",
    "        "
   ]
  },
  {
   "cell_type": "code",
   "execution_count": 23,
   "id": "535ee33e",
   "metadata": {},
   "outputs": [],
   "source": [
    "Swift = Car(18,2019,\"Japan\")\n",
    "BMW = Car(10,2014,\"England\")"
   ]
  },
  {
   "cell_type": "code",
   "execution_count": 24,
   "id": "27f68584",
   "metadata": {},
   "outputs": [
    {
     "data": {
      "text/plain": [
       "2019"
      ]
     },
     "execution_count": 24,
     "metadata": {},
     "output_type": "execute_result"
    }
   ],
   "source": [
    "Swift.year"
   ]
  },
  {
   "cell_type": "code",
   "execution_count": 25,
   "id": "e5932335",
   "metadata": {},
   "outputs": [
    {
     "data": {
      "text/plain": [
       "('The current age of the car is:', 2)"
      ]
     },
     "execution_count": 25,
     "metadata": {},
     "output_type": "execute_result"
    }
   ],
   "source": [
    "Swift.Age(2021)"
   ]
  },
  {
   "cell_type": "code",
   "execution_count": 26,
   "id": "fe01752e",
   "metadata": {},
   "outputs": [
    {
     "data": {
      "text/plain": [
       "('The current age of the car is:', 7)"
      ]
     },
     "execution_count": 26,
     "metadata": {},
     "output_type": "execute_result"
    }
   ],
   "source": [
    "BMW.Age(2021)"
   ]
  },
  {
   "cell_type": "code",
   "execution_count": 39,
   "id": "e5569b19",
   "metadata": {},
   "outputs": [],
   "source": [
    "class student:\n",
    "    def __init__(self,name,rollno,phone_num,batch):\n",
    "        self.name = name\n",
    "        self.rollno = rollno\n",
    "        self.phone_num = phone_num\n",
    "        self.batch = batch\n",
    "        \n",
    "    def Name_Upper(self):\n",
    "        print(self.name.upper())\n",
    "        \n",
    "    def str_rollno(self):\n",
    "        if type(self.rollno) == str :\n",
    "            print(\"doing nothing\")\n",
    "            return self.rollno\n",
    "        else:\n",
    "            print(\"Converting\")\n",
    "            return str(self.rollno)\n",
    "        \n",
    "    def sum_of_phone_num(self):\n",
    "        self.total = 0\n",
    "        for i in str(self.phone_num):\n",
    "            self.total += int(i)\n",
    "            \n",
    "        return self.total\n",
    "            \n",
    "        \n",
    "    def __str__(self):\n",
    "        return \"It is a student class to store detials of the students\""
   ]
  },
  {
   "cell_type": "code",
   "execution_count": 41,
   "id": "5fa47710",
   "metadata": {},
   "outputs": [],
   "source": [
    "Naveen = student(\"Naveen\",191719129,8825426132,\"May-7\")"
   ]
  },
  {
   "cell_type": "code",
   "execution_count": 42,
   "id": "c25707a7",
   "metadata": {},
   "outputs": [
    {
     "name": "stdout",
     "output_type": "stream",
     "text": [
      "NAVEEN\n"
     ]
    }
   ],
   "source": [
    "Naveen.Name_Upper()"
   ]
  },
  {
   "cell_type": "code",
   "execution_count": 43,
   "id": "4c611dfa",
   "metadata": {},
   "outputs": [
    {
     "name": "stdout",
     "output_type": "stream",
     "text": [
      "Converting\n"
     ]
    },
    {
     "data": {
      "text/plain": [
       "'191719129'"
      ]
     },
     "execution_count": 43,
     "metadata": {},
     "output_type": "execute_result"
    }
   ],
   "source": [
    "Naveen.str_rollno()"
   ]
  },
  {
   "cell_type": "code",
   "execution_count": 46,
   "id": "2d196c52",
   "metadata": {},
   "outputs": [
    {
     "data": {
      "text/plain": [
       "41"
      ]
     },
     "execution_count": 46,
     "metadata": {},
     "output_type": "execute_result"
    }
   ],
   "source": [
    "Naveen.sum_of_phone_num()"
   ]
  },
  {
   "cell_type": "code",
   "execution_count": 45,
   "id": "43949826",
   "metadata": {},
   "outputs": [
    {
     "name": "stdout",
     "output_type": "stream",
     "text": [
      "It is a student class to store detials of the students\n"
     ]
    }
   ],
   "source": [
    "print(Naveen)"
   ]
  },
  {
   "cell_type": "code",
   "execution_count": null,
   "id": "1ccc6c9e",
   "metadata": {},
   "outputs": [],
   "source": []
  }
 ],
 "metadata": {
  "kernelspec": {
   "display_name": "Python 3 (ipykernel)",
   "language": "python",
   "name": "python3"
  },
  "language_info": {
   "codemirror_mode": {
    "name": "ipython",
    "version": 3
   },
   "file_extension": ".py",
   "mimetype": "text/x-python",
   "name": "python",
   "nbconvert_exporter": "python",
   "pygments_lexer": "ipython3",
   "version": "3.9.7"
  }
 },
 "nbformat": 4,
 "nbformat_minor": 5
}
