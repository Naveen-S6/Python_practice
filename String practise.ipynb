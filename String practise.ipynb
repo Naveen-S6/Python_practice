{
 "cells": [
  {
   "cell_type": "markdown",
   "id": "acb4a315",
   "metadata": {},
   "source": [
    "## String practise "
   ]
  },
  {
   "cell_type": "markdown",
   "id": "8e1b0bc2",
   "metadata": {},
   "source": [
    "### To get the length of the string"
   ]
  },
  {
   "cell_type": "code",
   "execution_count": 28,
   "id": "633c1d7f",
   "metadata": {},
   "outputs": [
    {
     "data": {
      "text/plain": [
       "59"
      ]
     },
     "execution_count": 28,
     "metadata": {},
     "output_type": "execute_result"
    }
   ],
   "source": [
    "string = \"Write a Python program to calculate the length of a string.\"\n",
    "len(string)"
   ]
  },
  {
   "cell_type": "markdown",
   "id": "7b425937",
   "metadata": {},
   "source": [
    "### To get the frequency of the each character "
   ]
  },
  {
   "cell_type": "code",
   "execution_count": 6,
   "id": "06347b76",
   "metadata": {},
   "outputs": [],
   "source": [
    "freq={}\n",
    "for i in string:\n",
    "    if i in freq:\n",
    "        freq[i] += 1\n",
    "    else:\n",
    "        freq[i] = 1\n"
   ]
  },
  {
   "cell_type": "code",
   "execution_count": 29,
   "id": "905c69a3",
   "metadata": {},
   "outputs": [
    {
     "data": {
      "text/plain": [
       "{'W': 1,\n",
       " 'r': 4,\n",
       " 'i': 2,\n",
       " 't': 7,\n",
       " 'e': 4,\n",
       " ' ': 10,\n",
       " 'a': 5,\n",
       " 'P': 1,\n",
       " 'y': 1,\n",
       " 'h': 3,\n",
       " 'o': 4,\n",
       " 'n': 3,\n",
       " 'p': 1,\n",
       " 'g': 3,\n",
       " 'm': 1,\n",
       " 'c': 2,\n",
       " 'l': 3,\n",
       " 'u': 1,\n",
       " 'f': 1,\n",
       " 's': 1,\n",
       " '.': 1}"
      ]
     },
     "execution_count": 29,
     "metadata": {},
     "output_type": "execute_result"
    }
   ],
   "source": [
    "freq"
   ]
  },
  {
   "cell_type": "markdown",
   "id": "910e24b8",
   "metadata": {},
   "source": [
    "### Write a Python program to get a string made of the first 2 and the last 2 chars from a given a string. If the string length is less than 2, return instead of the empty string."
   ]
  },
  {
   "cell_type": "code",
   "execution_count": 19,
   "id": "272f62af",
   "metadata": {},
   "outputs": [],
   "source": [
    "string =\"w\""
   ]
  },
  {
   "cell_type": "code",
   "execution_count": 20,
   "id": "e9db87f8",
   "metadata": {},
   "outputs": [
    {
     "name": "stdout",
     "output_type": "stream",
     "text": [
      "Empty string\n"
     ]
    }
   ],
   "source": [
    "if len(string)>2:\n",
    "    print(string[:2] + string[-3:-1])\n",
    "else:\n",
    "    print(\"Empty string\")"
   ]
  },
  {
   "cell_type": "markdown",
   "id": "cc97da6b",
   "metadata": {},
   "source": [
    "### Write a Python program to get a string from a given string where all occurrences of its first char have been changed to '$', except the first char itself. "
   ]
  },
  {
   "cell_type": "code",
   "execution_count": 26,
   "id": "e54dbaf9",
   "metadata": {},
   "outputs": [],
   "source": [
    "def change_string(str1):\n",
    "    char = str1[0].lower()\n",
    "    str1= str1.replace(char, \"$\")\n",
    "    str1 = char + str1[1:]\n",
    "    \n",
    "    return str1"
   ]
  },
  {
   "cell_type": "code",
   "execution_count": 27,
   "id": "41fc89e8",
   "metadata": {},
   "outputs": [
    {
     "name": "stdout",
     "output_type": "stream",
     "text": [
      "ret$eat\n"
     ]
    }
   ],
   "source": [
    "print(change_string(\"Retreat\"))"
   ]
  },
  {
   "cell_type": "markdown",
   "id": "f86c1ee4",
   "metadata": {},
   "source": [
    "### Write a Python program to get a single string from two given strings, separated by a space and swap the first two characters of each string "
   ]
  },
  {
   "cell_type": "code",
   "execution_count": 35,
   "id": "62bf5db2",
   "metadata": {},
   "outputs": [],
   "source": [
    "def mix_up(a, b):\n",
    "    new_a = a[:2]+b[2:]\n",
    "    new_b = b[:2]+a[2:]\n",
    "    \n",
    "    return new_a + \" \" + new_b "
   ]
  },
  {
   "cell_type": "code",
   "execution_count": 36,
   "id": "57aec33f",
   "metadata": {},
   "outputs": [
    {
     "name": "stdout",
     "output_type": "stream",
     "text": [
      "xyz aba\n"
     ]
    }
   ],
   "source": [
    "print(mix_up(\"xya\",\"abz\"))"
   ]
  },
  {
   "cell_type": "markdown",
   "id": "35ae953e",
   "metadata": {},
   "source": [
    "### Write a Python program to add 'ing' at the end of a given string (length should be at least 3). If the given string already ends with 'ing' then add 'ly' instead. If the string length of the given string is less than 3, leave it unchanged."
   ]
  },
  {
   "cell_type": "code",
   "execution_count": 50,
   "id": "52c34e13",
   "metadata": {},
   "outputs": [],
   "source": [
    "def modify_str(st):\n",
    "    if len(st)>2:\n",
    "        if st[-3:] == \"ing\":\n",
    "            st +=\"ly\"\n",
    "            \n",
    "        else:\n",
    "            st += \"ing\"\n",
    "            \n",
    "    return st"
   ]
  },
  {
   "cell_type": "code",
   "execution_count": 52,
   "id": "d0259f92",
   "metadata": {},
   "outputs": [
    {
     "name": "stdout",
     "output_type": "stream",
     "text": [
      "Playing\n"
     ]
    }
   ],
   "source": [
    "print(modify_str(\"Play\"))"
   ]
  },
  {
   "cell_type": "markdown",
   "id": "b4fbae05",
   "metadata": {},
   "source": [
    "### Write a Python program to find the first appearance of the substring 'not' and 'poor' from a given string, if 'not' follows the 'poor', replace the whole 'not'...'poor' substring with 'good'. Return the resulting string."
   ]
  },
  {
   "cell_type": "code",
   "execution_count": 54,
   "id": "8f87b365",
   "metadata": {},
   "outputs": [],
   "source": [
    "def not_poor(str1):\n",
    "    s_not = str1.find(\"not\")\n",
    "    s_poor = str1.find(\"poor\")\n",
    "    \n",
    "    if s_poor > s_not and s_not>0 and s_poor>0:\n",
    "        str1 = str1.replace(str1[s_not:s_poor+4], \"good\")\n",
    "    else:\n",
    "        str1 = str1\n",
    "    return str1"
   ]
  },
  {
   "cell_type": "code",
   "execution_count": 55,
   "id": "38a44725",
   "metadata": {},
   "outputs": [
    {
     "name": "stdout",
     "output_type": "stream",
     "text": [
      "The lyrics is good!\n",
      "The lyrics is poor!\n"
     ]
    }
   ],
   "source": [
    "print(not_poor('The lyrics is not that poor!'))\n",
    "print(not_poor('The lyrics is poor!'))"
   ]
  },
  {
   "cell_type": "markdown",
   "id": "24ac0312",
   "metadata": {},
   "source": [
    "### Write a Python function that takes a list of words and return the longest word and the length of the longest one. "
   ]
  },
  {
   "cell_type": "code",
   "execution_count": 76,
   "id": "68d8e5f1",
   "metadata": {},
   "outputs": [],
   "source": [
    "def longest(list):\n",
    "    length = []\n",
    "    for i in list:\n",
    "        new = len(i)\n",
    "        length.append(new)\n",
    "    \n",
    "    longest_word = list[length.index(max(length))]\n",
    "    length_of_word = max(length)\n",
    "    \n",
    "    print(\"Longest word is:\", longest_word)\n",
    "    print(\"length of that word:\", length_of_word)\n",
    "    return list"
   ]
  },
  {
   "cell_type": "code",
   "execution_count": 78,
   "id": "5bad8338",
   "metadata": {},
   "outputs": [
    {
     "name": "stdout",
     "output_type": "stream",
     "text": [
      "Longest word is: Physiotheraphy\n",
      "length of that word: 14\n",
      "['love', 'energy', 'affection', 'incorrigible', 'Peculiar', 'defastating', 'perpendicular', 'kind', 'alot', 'win', 'psycology', 'Physiotheraphy', 'nutirition']\n"
     ]
    }
   ],
   "source": [
    "list = [\"love\",\"energy\",\"affection\",\"incorrigible\",\"Peculiar\",\"defastating\",\"perpendicular\",\"kind\",\"alot\",\"win\",\"psycology\",\"Physiotheraphy\",\"nutirition\"]\n",
    "print(longest(list))"
   ]
  },
  {
   "cell_type": "markdown",
   "id": "b834814c",
   "metadata": {},
   "source": [
    "### Write a Python program to remove the nth index character from a nonempty string."
   ]
  },
  {
   "cell_type": "code",
   "execution_count": 82,
   "id": "72954cf9",
   "metadata": {},
   "outputs": [],
   "source": [
    "def str_remove(stt, n):\n",
    "    first_part = stt[:n]\n",
    "    second_part = stt[n+1:]\n",
    "    return first_part+second_part"
   ]
  },
  {
   "cell_type": "code",
   "execution_count": 83,
   "id": "13ac4db4",
   "metadata": {},
   "outputs": [
    {
     "name": "stdout",
     "output_type": "stream",
     "text": [
      "Naven wins\n"
     ]
    }
   ],
   "source": [
    "print(str_remove(\"Naveen wins\", 4))"
   ]
  },
  {
   "cell_type": "markdown",
   "id": "34ff0405",
   "metadata": {},
   "source": [
    "### Write a Python program to change a given string to a new string where the first and last chars have been exchanged. "
   ]
  },
  {
   "cell_type": "code",
   "execution_count": 84,
   "id": "099537e1",
   "metadata": {},
   "outputs": [],
   "source": [
    "def str_exchange(strr):\n",
    "    new_str = strr[-1:]+strr[1:-1]+strr[:1]\n",
    "    return new_str"
   ]
  },
  {
   "cell_type": "code",
   "execution_count": 85,
   "id": "9e247fc1",
   "metadata": {},
   "outputs": [
    {
     "name": "stdout",
     "output_type": "stream",
     "text": [
      "nalavaN\n"
     ]
    }
   ],
   "source": [
    "print(str_exchange(\"Nalavan\"))"
   ]
  },
  {
   "cell_type": "markdown",
   "id": "bc8de86f",
   "metadata": {},
   "source": [
    "### Write a Python program to remove the characters which have odd index values of a given string."
   ]
  },
  {
   "cell_type": "code",
   "execution_count": 86,
   "id": "f22f73e2",
   "metadata": {},
   "outputs": [],
   "source": [
    "ss = \"Naveen went to the office only after an year\""
   ]
  },
  {
   "cell_type": "code",
   "execution_count": 96,
   "id": "d8231ed2",
   "metadata": {},
   "outputs": [],
   "source": [
    "def print_odd_index(strr):\n",
    "    i = 0\n",
    "    ns =\"\"\n",
    "    while i < len(strr):\n",
    "        ns += strr[i]\n",
    "        i += 2\n",
    "    return ns   "
   ]
  },
  {
   "cell_type": "code",
   "execution_count": 97,
   "id": "63a2c882",
   "metadata": {},
   "outputs": [
    {
     "name": "stdout",
     "output_type": "stream",
     "text": [
      "Nve ett h fieol fe nya\n"
     ]
    }
   ],
   "source": [
    "print(print_odd_index(ss))"
   ]
  },
  {
   "cell_type": "markdown",
   "id": "2fef3a39",
   "metadata": {},
   "source": [
    "### Write a Python program to count the occurrences of each word in a given sentence."
   ]
  },
  {
   "cell_type": "code",
   "execution_count": 110,
   "id": "c27f74a5",
   "metadata": {},
   "outputs": [],
   "source": [
    "def count_occurance(strr):\n",
    "    list_of_word = strr.split()\n",
    "    occurance_count ={}\n",
    "    for i in list_of_word:\n",
    "        if i in occurance_count:\n",
    "            occurance_count[i] += 1\n",
    "        else:\n",
    "            occurance_count[i] = 1\n",
    "    \n",
    "    return occurance_count  "
   ]
  },
  {
   "cell_type": "code",
   "execution_count": 113,
   "id": "18ae434e",
   "metadata": {},
   "outputs": [
    {
     "name": "stdout",
     "output_type": "stream",
     "text": [
      "{'Name': 1, 'of': 1, 'Naveen': 4, \"'\": 2, ',': 1, 'is': 1, 'typed': 1, 'two': 1, 'time': 1, 'by': 1}\n"
     ]
    }
   ],
   "source": [
    "print(count_occurance(\"Name of Naveen ' Naveen , Naveen ' is typed two time by Naveen\"))"
   ]
  }
 ],
 "metadata": {
  "kernelspec": {
   "display_name": "Python 3",
   "language": "python",
   "name": "python3"
  },
  "language_info": {
   "codemirror_mode": {
    "name": "ipython",
    "version": 3
   },
   "file_extension": ".py",
   "mimetype": "text/x-python",
   "name": "python",
   "nbconvert_exporter": "python",
   "pygments_lexer": "ipython3",
   "version": "3.8.8"
  }
 },
 "nbformat": 4,
 "nbformat_minor": 5
}
